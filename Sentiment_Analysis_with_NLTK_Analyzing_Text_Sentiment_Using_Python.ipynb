{
  "nbformat": 4,
  "nbformat_minor": 0,
  "metadata": {
    "colab": {
      "provenance": [],
      "authorship_tag": "ABX9TyNji0yflQ0FcldJnz4HQwh2",
      "include_colab_link": true
    },
    "kernelspec": {
      "name": "python3",
      "display_name": "Python 3"
    },
    "language_info": {
      "name": "python"
    }
  },
  "cells": [
    {
      "cell_type": "markdown",
      "metadata": {
        "id": "view-in-github",
        "colab_type": "text"
      },
      "source": [
        "<a href=\"https://colab.research.google.com/github/arthaAgastya/Sentiment-Analysis-with-NLTK-Analyzing-Text-Sentiment-Using-Python/blob/main/Sentiment_Analysis_with_NLTK_Analyzing_Text_Sentiment_Using_Python.ipynb\" target=\"_parent\"><img src=\"https://colab.research.google.com/assets/colab-badge.svg\" alt=\"Open In Colab\"/></a>"
      ]
    },
    {
      "cell_type": "code",
      "execution_count": 3,
      "metadata": {
        "colab": {
          "base_uri": "https://localhost:8080/"
        },
        "id": "H3rI78ytcfLD",
        "outputId": "c92453dc-5245-4d0e-ee76-97d9696d1bd4"
      },
      "outputs": [
        {
          "output_type": "stream",
          "name": "stdout",
          "text": [
            "Looking in indexes: https://pypi.org/simple, https://us-python.pkg.dev/colab-wheels/public/simple/\n",
            "Requirement already satisfied: nltk in /usr/local/lib/python3.10/dist-packages (3.8.1)\n",
            "Requirement already satisfied: click in /usr/local/lib/python3.10/dist-packages (from nltk) (8.1.3)\n",
            "Requirement already satisfied: joblib in /usr/local/lib/python3.10/dist-packages (from nltk) (1.2.0)\n",
            "Requirement already satisfied: regex>=2021.8.3 in /usr/local/lib/python3.10/dist-packages (from nltk) (2022.10.31)\n",
            "Requirement already satisfied: tqdm in /usr/local/lib/python3.10/dist-packages (from nltk) (4.65.0)\n"
          ]
        }
      ],
      "source": [
        "# Step 1: Install and import necessary libraries\n",
        "!pip install nltk\n",
        "\n",
        "import nltk\n",
        "from nltk.sentiment import SentimentIntensityAnalyzer\n"
      ]
    },
    {
      "cell_type": "code",
      "source": [
        "# Step 2: Download required NLTK resources\n",
        "nltk.download('vader_lexicon')\n"
      ],
      "metadata": {
        "id": "NAFK-SX3cjcG",
        "colab": {
          "base_uri": "https://localhost:8080/"
        },
        "outputId": "c1e9a0d0-7366-4c69-f694-a6e887c4868f"
      },
      "execution_count": 4,
      "outputs": [
        {
          "output_type": "stream",
          "name": "stderr",
          "text": [
            "[nltk_data] Downloading package vader_lexicon to /root/nltk_data...\n"
          ]
        },
        {
          "output_type": "execute_result",
          "data": {
            "text/plain": [
              "True"
            ]
          },
          "metadata": {},
          "execution_count": 4
        }
      ]
    },
    {
      "cell_type": "code",
      "source": [
        "\n",
        "# Step 3: Instantiate the SentimentIntensityAnalyzer\n",
        "sia = SentimentIntensityAnalyzer()\n"
      ],
      "metadata": {
        "id": "l4b0IHvEph83"
      },
      "execution_count": 5,
      "outputs": []
    },
    {
      "cell_type": "code",
      "source": [
        "# Step 4: Define a function for sentiment analysis\n",
        "def analyze_sentiment(text):\n",
        "    \"\"\"\n",
        "    Function to perform sentiment analysis using the SentimentIntensityAnalyzer.\n",
        "    Returns the sentiment as 'Positive', 'Negative', or 'Neutral'.\n",
        "    \"\"\"\n",
        "    sentiment_scores = sia.polarity_scores(text)\n",
        "    compound_score = sentiment_scores['compound']\n",
        "    if compound_score >= 0.05:\n",
        "        return 'Positive'\n",
        "    elif compound_score <= -0.05:\n",
        "        return 'Negative'\n",
        "    else:\n",
        "        return 'Neutral'"
      ],
      "metadata": {
        "id": "Cn-kb_zxpjt4"
      },
      "execution_count": 6,
      "outputs": []
    },
    {
      "cell_type": "code",
      "source": [
        "# Step 5: Example usage\n",
        "text = \"\"\"\n",
        "    Natural language processing (NLP) is a subfield of artificial intelligence and linguistics. \n",
        "    It involves the interaction between computers and humans through natural language. \n",
        "    NLP focuses on the processing and understanding of human language, including speech and text data.\n",
        "    With the advancements in machine learning and deep learning techniques, NLP has made significant progress.\n",
        "    Applications of NLP include sentiment analysis, named entity recognition, machine translation, text generation, and more.\n",
        "    Sentiment analysis is a popular NLP task that involves determining the sentiment expressed in a given text.\n",
        "    It can be applied to social media data, customer reviews, feedback analysis, and other text-based data sources.\n",
        "    NLP techniques and tools, like the SentimentIntensityAnalyzer from NLTK, help in performing sentiment analysis effectively.\n",
        "\"\"\"\n",
        "\n",
        "sentiment = analyze_sentiment(text)"
      ],
      "metadata": {
        "id": "l9bDO5BYplRJ"
      },
      "execution_count": 7,
      "outputs": []
    },
    {
      "cell_type": "code",
      "source": [
        "# Step 6: Display the sentiment analysis result\n",
        "print(\"Sentiment:\", sentiment)"
      ],
      "metadata": {
        "colab": {
          "base_uri": "https://localhost:8080/"
        },
        "id": "amZhZhH5ppRE",
        "outputId": "31e24cbf-0bc7-45b6-d861-4739e7f3fc84"
      },
      "execution_count": 8,
      "outputs": [
        {
          "output_type": "stream",
          "name": "stdout",
          "text": [
            "Sentiment: Positive\n"
          ]
        }
      ]
    },
    {
      "cell_type": "code",
      "source": [],
      "metadata": {
        "id": "HtFZj32CpwO_"
      },
      "execution_count": null,
      "outputs": []
    }
  ]
}